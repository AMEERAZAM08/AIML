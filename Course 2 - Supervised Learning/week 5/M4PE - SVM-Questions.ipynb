{
 "cells": [
  {
   "cell_type": "markdown",
   "metadata": {},
   "source": [
    "# Support Vector Machines - SVM"
   ]
  },
  {
   "cell_type": "markdown",
   "metadata": {},
   "source": [
    "# Context\n",
    "This dataset is originally from the National Institute of Diabetes and Digestive and Kidney Diseases. The objective of the \n",
    "dataset is to diagnostically predict whether or not a patient has diabetes, based on certain diagnostic measurements included in \n",
    "the dataset. Several constraints were placed on the selection of these instances from a larger database. In particular, all \n",
    "patients here are females at least 21 years old of Pima Indian heritage."
   ]
  },
  {
   "cell_type": "markdown",
   "metadata": {},
   "source": [
    "# Content\n",
    "The datasets consists of several medical predictor variables and one target variable, Outcome. Predictor variables includes the \n",
    "number of pregnancies the patient has had, their BMI, insulin level, age, and so on."
   ]
  },
  {
   "cell_type": "markdown",
   "metadata": {},
   "source": [
    "# Can you build a machine learning model to accurately predict whether or not the patients in the dataset have diabetes or not?"
   ]
  },
  {
   "cell_type": "markdown",
   "metadata": {},
   "source": [
    "# 1. Import Libraries and load the dataset"
   ]
  },
  {
   "cell_type": "code",
   "execution_count": 43,
   "metadata": {},
   "outputs": [],
   "source": [
    "import pandas as pd\n",
    "import numpy as np\n",
    "\n",
    "import seaborn as sns\n",
    "import matplotlib.pyplot as plt\n",
    "\n",
    "from sklearn.model_selection import StratifiedShuffleSplit\n",
    "from sklearn.preprocessing import MinMaxScaler\n",
    "from sklearn.svm import SVC\n",
    "from sklearn.metrics import classification_report"
   ]
  },
  {
   "cell_type": "markdown",
   "metadata": {},
   "source": [
    "# 2. Check dimension of dataset"
   ]
  },
  {
   "cell_type": "code",
   "execution_count": 2,
   "metadata": {},
   "outputs": [
    {
     "data": {
      "text/html": [
       "<div>\n",
       "<style scoped>\n",
       "    .dataframe tbody tr th:only-of-type {\n",
       "        vertical-align: middle;\n",
       "    }\n",
       "\n",
       "    .dataframe tbody tr th {\n",
       "        vertical-align: top;\n",
       "    }\n",
       "\n",
       "    .dataframe thead th {\n",
       "        text-align: right;\n",
       "    }\n",
       "</style>\n",
       "<table border=\"1\" class=\"dataframe\">\n",
       "  <thead>\n",
       "    <tr style=\"text-align: right;\">\n",
       "      <th></th>\n",
       "      <th>Pregnancies</th>\n",
       "      <th>Glucose</th>\n",
       "      <th>BloodPressure</th>\n",
       "      <th>SkinThickness</th>\n",
       "      <th>Insulin</th>\n",
       "      <th>BMI</th>\n",
       "      <th>DiabetesPedigreeFunction</th>\n",
       "      <th>Age</th>\n",
       "      <th>Outcome</th>\n",
       "    </tr>\n",
       "  </thead>\n",
       "  <tbody>\n",
       "    <tr>\n",
       "      <th>691</th>\n",
       "      <td>13</td>\n",
       "      <td>158</td>\n",
       "      <td>114</td>\n",
       "      <td>0</td>\n",
       "      <td>0</td>\n",
       "      <td>42.3</td>\n",
       "      <td>0.257</td>\n",
       "      <td>44</td>\n",
       "      <td>1</td>\n",
       "    </tr>\n",
       "    <tr>\n",
       "      <th>111</th>\n",
       "      <td>8</td>\n",
       "      <td>155</td>\n",
       "      <td>62</td>\n",
       "      <td>26</td>\n",
       "      <td>495</td>\n",
       "      <td>34.0</td>\n",
       "      <td>0.543</td>\n",
       "      <td>46</td>\n",
       "      <td>1</td>\n",
       "    </tr>\n",
       "    <tr>\n",
       "      <th>594</th>\n",
       "      <td>6</td>\n",
       "      <td>123</td>\n",
       "      <td>72</td>\n",
       "      <td>45</td>\n",
       "      <td>230</td>\n",
       "      <td>33.6</td>\n",
       "      <td>0.733</td>\n",
       "      <td>34</td>\n",
       "      <td>0</td>\n",
       "    </tr>\n",
       "    <tr>\n",
       "      <th>202</th>\n",
       "      <td>0</td>\n",
       "      <td>108</td>\n",
       "      <td>68</td>\n",
       "      <td>20</td>\n",
       "      <td>0</td>\n",
       "      <td>27.3</td>\n",
       "      <td>0.787</td>\n",
       "      <td>32</td>\n",
       "      <td>0</td>\n",
       "    </tr>\n",
       "    <tr>\n",
       "      <th>260</th>\n",
       "      <td>3</td>\n",
       "      <td>191</td>\n",
       "      <td>68</td>\n",
       "      <td>15</td>\n",
       "      <td>130</td>\n",
       "      <td>30.9</td>\n",
       "      <td>0.299</td>\n",
       "      <td>34</td>\n",
       "      <td>0</td>\n",
       "    </tr>\n",
       "  </tbody>\n",
       "</table>\n",
       "</div>"
      ],
      "text/plain": [
       "     Pregnancies  Glucose  BloodPressure  SkinThickness  Insulin   BMI  \\\n",
       "691           13      158            114              0        0  42.3   \n",
       "111            8      155             62             26      495  34.0   \n",
       "594            6      123             72             45      230  33.6   \n",
       "202            0      108             68             20        0  27.3   \n",
       "260            3      191             68             15      130  30.9   \n",
       "\n",
       "     DiabetesPedigreeFunction  Age  Outcome  \n",
       "691                     0.257   44        1  \n",
       "111                     0.543   46        1  \n",
       "594                     0.733   34        0  \n",
       "202                     0.787   32        0  \n",
       "260                     0.299   34        0  "
      ]
     },
     "execution_count": 2,
     "metadata": {},
     "output_type": "execute_result"
    }
   ],
   "source": [
    "df = pd.read_csv('Diabetes.csv')\n",
    "df.sample(5)"
   ]
  },
  {
   "cell_type": "markdown",
   "metadata": {},
   "source": [
    "# 3. Check distribution of dependent variable, Outcome and plot it"
   ]
  },
  {
   "cell_type": "code",
   "execution_count": 7,
   "metadata": {},
   "outputs": [
    {
     "data": {
      "text/plain": [
       "<matplotlib.axes._subplots.AxesSubplot at 0x7f661c3ecf60>"
      ]
     },
     "execution_count": 7,
     "metadata": {},
     "output_type": "execute_result"
    },
    {
     "data": {
      "image/png": "[encoded data removed]",
      "text/plain": [
       "<Figure size 432x288 with 1 Axes>"
      ]
     },
     "metadata": {
      "needs_background": "light"
     },
     "output_type": "display_data"
    }
   ],
   "source": [
    "df[\"Outcome\"].plot(kind='hist')"
   ]
  },
  {
   "cell_type": "markdown",
   "metadata": {},
   "source": [
    "# 4. Out of 768 data points, 500 are labeled as 0 and 268 as 1.\n",
    "Outcome 0 means No diabetes, outcome 1 means diabetes, Give a countplot"
   ]
  },
  {
   "cell_type": "code",
   "execution_count": 10,
   "metadata": {},
   "outputs": [
    {
     "data": {
      "text/plain": [
       "<matplotlib.axes._subplots.AxesSubplot at 0x7f6619aeeeb8>"
      ]
     },
     "execution_count": 10,
     "metadata": {},
     "output_type": "execute_result"
    },
    {
     "data": {
      "image/png": "[encoded data removed]",
      "text/plain": [
       "<Figure size 432x288 with 1 Axes>"
      ]
     },
     "metadata": {
      "needs_background": "light"
     },
     "output_type": "display_data"
    }
   ],
   "source": [
    "sns.countplot(\"Outcome\", data=df)"
   ]
  },
  {
   "cell_type": "markdown",
   "metadata": {},
   "source": [
    "# 5. Check data distribution using summary statistics and provide your findings(Insights)"
   ]
  },
  {
   "cell_type": "code",
   "execution_count": 12,
   "metadata": {},
   "outputs": [
    {
     "data": {
      "text/html": [
       "<div>\n",
       "<style scoped>\n",
       "    .dataframe tbody tr th:only-of-type {\n",
       "        vertical-align: middle;\n",
       "    }\n",
       "\n",
       "    .dataframe tbody tr th {\n",
       "        vertical-align: top;\n",
       "    }\n",
       "\n",
       "    .dataframe thead th {\n",
       "        text-align: right;\n",
       "    }\n",
       "</style>\n",
       "<table border=\"1\" class=\"dataframe\">\n",
       "  <thead>\n",
       "    <tr style=\"text-align: right;\">\n",
       "      <th></th>\n",
       "      <th>count</th>\n",
       "      <th>mean</th>\n",
       "      <th>std</th>\n",
       "      <th>min</th>\n",
       "      <th>25%</th>\n",
       "      <th>50%</th>\n",
       "      <th>75%</th>\n",
       "      <th>max</th>\n",
       "    </tr>\n",
       "  </thead>\n",
       "  <tbody>\n",
       "    <tr>\n",
       "      <th>Pregnancies</th>\n",
       "      <td>768.0</td>\n",
       "      <td>3.845052</td>\n",
       "      <td>3.369578</td>\n",
       "      <td>0.000</td>\n",
       "      <td>1.00000</td>\n",
       "      <td>3.0000</td>\n",
       "      <td>6.00000</td>\n",
       "      <td>17.00</td>\n",
       "    </tr>\n",
       "    <tr>\n",
       "      <th>Glucose</th>\n",
       "      <td>768.0</td>\n",
       "      <td>120.894531</td>\n",
       "      <td>31.972618</td>\n",
       "      <td>0.000</td>\n",
       "      <td>99.00000</td>\n",
       "      <td>117.0000</td>\n",
       "      <td>140.25000</td>\n",
       "      <td>199.00</td>\n",
       "    </tr>\n",
       "    <tr>\n",
       "      <th>BloodPressure</th>\n",
       "      <td>768.0</td>\n",
       "      <td>69.105469</td>\n",
       "      <td>19.355807</td>\n",
       "      <td>0.000</td>\n",
       "      <td>62.00000</td>\n",
       "      <td>72.0000</td>\n",
       "      <td>80.00000</td>\n",
       "      <td>122.00</td>\n",
       "    </tr>\n",
       "    <tr>\n",
       "      <th>SkinThickness</th>\n",
       "      <td>768.0</td>\n",
       "      <td>20.536458</td>\n",
       "      <td>15.952218</td>\n",
       "      <td>0.000</td>\n",
       "      <td>0.00000</td>\n",
       "      <td>23.0000</td>\n",
       "      <td>32.00000</td>\n",
       "      <td>99.00</td>\n",
       "    </tr>\n",
       "    <tr>\n",
       "      <th>Insulin</th>\n",
       "      <td>768.0</td>\n",
       "      <td>79.799479</td>\n",
       "      <td>115.244002</td>\n",
       "      <td>0.000</td>\n",
       "      <td>0.00000</td>\n",
       "      <td>30.5000</td>\n",
       "      <td>127.25000</td>\n",
       "      <td>846.00</td>\n",
       "    </tr>\n",
       "    <tr>\n",
       "      <th>BMI</th>\n",
       "      <td>768.0</td>\n",
       "      <td>31.992578</td>\n",
       "      <td>7.884160</td>\n",
       "      <td>0.000</td>\n",
       "      <td>27.30000</td>\n",
       "      <td>32.0000</td>\n",
       "      <td>36.60000</td>\n",
       "      <td>67.10</td>\n",
       "    </tr>\n",
       "    <tr>\n",
       "      <th>DiabetesPedigreeFunction</th>\n",
       "      <td>768.0</td>\n",
       "      <td>0.471876</td>\n",
       "      <td>0.331329</td>\n",
       "      <td>0.078</td>\n",
       "      <td>0.24375</td>\n",
       "      <td>0.3725</td>\n",
       "      <td>0.62625</td>\n",
       "      <td>2.42</td>\n",
       "    </tr>\n",
       "    <tr>\n",
       "      <th>Age</th>\n",
       "      <td>768.0</td>\n",
       "      <td>33.240885</td>\n",
       "      <td>11.760232</td>\n",
       "      <td>21.000</td>\n",
       "      <td>24.00000</td>\n",
       "      <td>29.0000</td>\n",
       "      <td>41.00000</td>\n",
       "      <td>81.00</td>\n",
       "    </tr>\n",
       "    <tr>\n",
       "      <th>Outcome</th>\n",
       "      <td>768.0</td>\n",
       "      <td>0.348958</td>\n",
       "      <td>0.476951</td>\n",
       "      <td>0.000</td>\n",
       "      <td>0.00000</td>\n",
       "      <td>0.0000</td>\n",
       "      <td>1.00000</td>\n",
       "      <td>1.00</td>\n",
       "    </tr>\n",
       "  </tbody>\n",
       "</table>\n",
       "</div>"
      ],
      "text/plain": [
       "                          count        mean         std     min       25%  \\\n",
       "Pregnancies               768.0    3.845052    3.369578   0.000   1.00000   \n",
       "Glucose                   768.0  120.894531   31.972618   0.000  99.00000   \n",
       "BloodPressure             768.0   69.105469   19.355807   0.000  62.00000   \n",
       "SkinThickness             768.0   20.536458   15.952218   0.000   0.00000   \n",
       "Insulin                   768.0   79.799479  115.244002   0.000   0.00000   \n",
       "BMI                       768.0   31.992578    7.884160   0.000  27.30000   \n",
       "DiabetesPedigreeFunction  768.0    0.471876    0.331329   0.078   0.24375   \n",
       "Age                       768.0   33.240885   11.760232  21.000  24.00000   \n",
       "Outcome                   768.0    0.348958    0.476951   0.000   0.00000   \n",
       "\n",
       "                               50%        75%     max  \n",
       "Pregnancies                 3.0000    6.00000   17.00  \n",
       "Glucose                   117.0000  140.25000  199.00  \n",
       "BloodPressure              72.0000   80.00000  122.00  \n",
       "SkinThickness              23.0000   32.00000   99.00  \n",
       "Insulin                    30.5000  127.25000  846.00  \n",
       "BMI                        32.0000   36.60000   67.10  \n",
       "DiabetesPedigreeFunction    0.3725    0.62625    2.42  \n",
       "Age                        29.0000   41.00000   81.00  \n",
       "Outcome                     0.0000    1.00000    1.00  "
      ]
     },
     "execution_count": 12,
     "metadata": {},
     "output_type": "execute_result"
    }
   ],
   "source": [
    "df.describe().T"
   ]
  },
  {
   "cell_type": "markdown",
   "metadata": {},
   "source": [
    "- Missing values in Glucose, Blood Pressure, SkinThicknes, BMI"
   ]
  },
  {
   "cell_type": "markdown",
   "metadata": {},
   "source": [
    "# 6. Do correlation analysis and bivariate viualization with Insights"
   ]
  },
  {
   "cell_type": "code",
   "execution_count": 23,
   "metadata": {},
   "outputs": [
    {
     "data": {
      "text/plain": [
       "<matplotlib.axes._subplots.AxesSubplot at 0x7f661968feb8>"
      ]
     },
     "execution_count": 23,
     "metadata": {},
     "output_type": "execute_result"
    },
    {
     "data": {
      "image/png": "[encoded data removed]",
      "text/plain": [
       "<Figure size 720x360 with 2 Axes>"
      ]
     },
     "metadata": {
      "needs_background": "light"
     },
     "output_type": "display_data"
    }
   ],
   "source": [
    "plt.figure(figsize=(10, 5))\n",
    "sns.heatmap(df.corr(),annot=True, cmap=\"seismic\")"
   ]
  },
  {
   "cell_type": "markdown",
   "metadata": {},
   "source": [
    "# 7. Plot a scatter Matrix"
   ]
  },
  {
   "cell_type": "code",
   "execution_count": 60,
   "metadata": {},
   "outputs": [
    {
     "data": {
      "text/plain": [
       "1      66\n",
       "2      64\n",
       "3      66\n",
       "4      40\n",
       "5      74\n",
       "6      50\n",
       "7       0\n",
       "8      70\n",
       "9      96\n",
       "10     92\n",
       "11     74\n",
       "12     80\n",
       "13     60\n",
       "14     72\n",
       "15      0\n",
       "16     84\n",
       "17     74\n",
       "18     30\n",
       "19     70\n",
       "20     88\n",
       "21     84\n",
       "22     90\n",
       "23     80\n",
       "24     94\n",
       "25     70\n",
       "26     76\n",
       "27     66\n",
       "28     82\n",
       "29     92\n",
       "30     75\n",
       "       ..\n",
       "738    60\n",
       "739    74\n",
       "740    80\n",
       "741    44\n",
       "742    58\n",
       "743    94\n",
       "744    88\n",
       "745    84\n",
       "746    94\n",
       "747    74\n",
       "748    70\n",
       "749    62\n",
       "750    70\n",
       "751    78\n",
       "752    62\n",
       "753    88\n",
       "754    78\n",
       "755    88\n",
       "756    90\n",
       "757    72\n",
       "758    76\n",
       "759    92\n",
       "760    58\n",
       "761    74\n",
       "762    62\n",
       "763    76\n",
       "764    70\n",
       "765    72\n",
       "766    60\n",
       "767    70\n",
       "Name: BloodPressure, Length: 767, dtype: int64"
      ]
     },
     "execution_count": 60,
     "metadata": {},
     "output_type": "execute_result"
    }
   ],
   "source": [
    "df[\"BloodPressure\"] "
   ]
  },
  {
   "cell_type": "markdown",
   "metadata": {},
   "source": [
    "# 8. Do train and test split with stratify sampling on Outcome variable to maintain the distribution of dependent variable"
   ]
  },
  {
   "cell_type": "code",
   "execution_count": 31,
   "metadata": {},
   "outputs": [
    {
     "name": "stdout",
     "output_type": "stream",
     "text": [
      "StratifiedShuffleSplit(n_splits=5, random_state=0, test_size=0.5,\n",
      "            train_size=None)\n",
      "TRAIN: [698 664 488 316   9 599 192 491 102 648 557 275 645 160 451 245 298 617\n",
      " 206 376 383   0 130 696 233 476 729 512  95 619 701 616 493 580 411  70\n",
      "  28 346 445 756 629 120 606 531 502  60 700 381 271 119 146 468 141 370\n",
      " 550 675 695  72  44  79 730 303 475 686 158 384 704 417 403 365 440 410\n",
      " 400 335 250 179  22 363 564  14 106 611 341 165 278 640 516 558 653  18\n",
      " 621 718 157 229  15 337 647 597 750 690 292 666 396 539 478 385 182 306\n",
      " 167 196  26 118  57 528 646 450 121 559 311 486 171 650 412 572 251 101\n",
      " 761 226 733 217 430  99 246 170 364 184 174 176 282 114 287  33 699 738\n",
      " 511 149 500 627 413 321 123 670 758 402 501 188 523 498 681 767 258 424\n",
      " 656 290 283 443  30  23 302 614 265 112 189 343 725 555 752 514  82 222\n",
      " 211 399 663 763 220 679 585 717 274 660 173  89 155   3 284  17 669 256\n",
      " 612 518 671 428  20 605 454 735 116 709 532 212 694 702 563  96 336  40\n",
      " 185 380  86 270 156 739 542 741 766  77 423 473 100 314 397 667  85 537\n",
      " 214 623 601  90 374  16 459 474 753 615 548  34 389 257 457  12 388 726\n",
      " 227  91 163  61 325  38 305 131 536 439 358 722 159 469 239 253 234 320\n",
      "  37 479  36 133 310 288 490 377  13 688 323 503  31 721  66 659 317   5\n",
      " 562 281 395 261  67 375 651 749 630  42  25  48 145 489 221 154 524 584\n",
      " 438 223 103 582 210 404 354 642 405 707 509  46 143 549 255  45 747   2\n",
      " 541 180 373 632 471 492 249  10  84 110 661 409 272 573 517 745   4 447\n",
      " 372 111 115 641 624 142 477 519 751 683 201 191 408 219 622 353 604 228\n",
      " 129 293 329 593 359 104 207 570  21 530 687  51 583 505 636 166 497 657\n",
      " 628 456 578 398 464 740] TEST: [625 280 458 609 547 631 289 168 634 352 728 313  97  63 655 349 598 295\n",
      " 199 470 279 260 680 418 407 264 215 755 204 132 553  58 139 618 107 127\n",
      " 568 128 326 689 208 561  39  76 581 125 588 765 328 322 711 429 319 587\n",
      " 342 345 712 592 472 644 236  53 506  52 273 269 415 183 332  19 575 153\n",
      " 565 466 263 331  54 654 187 315 589 762 499 259 732 175 460 366 731  47\n",
      " 161 522 150 361 297 237 151 334 595 461 307  32 266 240 546 554 692 635\n",
      " 162 556 676 757 452 203 117 462  78 308 703 590 390 672 596 148 613 134\n",
      " 422 521 467 147   8  80  81 386 551 591 137 138 652 244 357 351 339 230\n",
      " 254 714 248  68 463 238  59 737 197  50 543 209  94 448 190 344 252 529\n",
      " 586 140 109 643 285 567  62 425 200 540  73 465 232  88  35 574 484  92\n",
      " 526 626 436 277 620 309 610 268 682 392 594 218 710  29 705 482 262 637\n",
      " 685 247 382 360 552 205 658 746 720 719 444 534 633  75 416 164 535 124\n",
      " 369 324 708 602 435 487 760 662   7 504 571 216 576 665 267  71 713 607\n",
      " 178 441 674 455 356 318 242 649  65  98 296 437 736 224  24 510 368 387\n",
      "  69 186 495 406 569 449 122 348  43 638 427 105 693  49 312 152 193  87\n",
      " 579 533  11 744 172 677 333 545 600 673 276 299 367 442 414 527 431 393\n",
      " 515  64 391 378 419 213 483 577  41 350 136 338 243 716 759 177  55   1\n",
      " 394 195 560 135  27 691 723 433 754 371 742 235 347 286 426 678 724 544\n",
      "  93 379 241 194 715  56 420 330 202 481  74 525 494 706 198 126 538   6\n",
      " 520 291 603 421 734 566 639 225 432 169 144 697 446  83 743 727 362 113\n",
      " 401 108 684 480 327 181 764 340 608 668 508 355 300 434 294 453 513 496\n",
      " 748 485 231 507 301 304]\n",
      "TRAIN: [634 281  99 384 294 760 326 107 610 421 340 737 311 185 288 728 234 558\n",
      " 739 221 723  15 599  47 316 219 672 697 262 653 435   1 549 339 530 617\n",
      " 601  36 429 261 136 327 313 381 639 475  37 122 193 105 579 668 497 664\n",
      " 378 412 720  52  24 437 698 574 329  16 400 259 131 443 394 408 523 361\n",
      " 194 424  35 432 332 499 110 710 587 488 143 120 274 645 410 585 152 260\n",
      "  95 541 490 442 538 520 418  53 106 301 718 695 612 753 377 192 140  72\n",
      "  45  98 518 593 108 434 669 727 736 242 184  21 282 480 121 438 425  13\n",
      " 114 207  27 292 388 256 199 244 481 679 352 543 762 163 411 461 648 478\n",
      "  11 631 387 268 629 503 683 291  42 685 295 367 230 609 426  87 476 567\n",
      " 734 371 665 651 644 583 258 419 186 305 654 568 334 391 510 139 265 166\n",
      " 456 350 444 115 380   5 302 449 547 561 705 314 652 591 215 509 643 576\n",
      " 526 356 168 165 195 278 232 116 150 594 712  19 545 454 687  58 577 682\n",
      " 182 552 270 670 715  88 142 147 615 622 358 395 253 623 364  84 466 401\n",
      "  67 766  64  22 328 123 748 709 127  40   0 619 213 754 747 457 218 154\n",
      " 642 519 464 337 630 703   2 514 452 445 722 137  48 557 396 385 534 494\n",
      " 489 223 548  57 280 675 462 249 542 382 287 390 227 744  71 597 540 298\n",
      " 403 632 582 470 284 758 366 209 202 455 372 681  18 162 416 277  92 348\n",
      " 263 125 614 346 393 210 252 183 528 578 321 212 417 446 216 132 487 354\n",
      " 586 655 402  60 370 427 245 662 344 241 638  32 477  73 621 531 640 608\n",
      " 635 641 172 238 430 729  39 222 570  91 696 704 482 373 671 269  76  54\n",
      " 250 369 151 220 399 486 161 404 156 275 479 428 415  80 254 566  43  49\n",
      " 217 565 495 173 180 135] TEST: [738 118 701 533 633 546 134 554 251 208 472 229 763 349 592 571 684 699\n",
      " 167 170 362 441 375   9 283 198 532 312 628 716 330 463 719 474  29 581\n",
      " 755  41 342 485 177 673  33 233  79 360  50  93 231 700 735  83 605 537\n",
      " 303 422 676 175 376 159 667 513 588 285 498 203 365 765   6 717 157  44\n",
      " 661 174 324 181 347 606 551 243 501 707 297 103 535 767 713 688 539  51\n",
      " 756 307 101 721 562  30 453 351 649 413 374 448 236 113  63 484 730 235\n",
      " 659 117 240 206  10 138 289 309 257 559 604  78 439 575 666 555 618 447\n",
      " 553  85 359 764 512 569 492 459 414 200 224 733 465 657 338 322 525 689\n",
      " 383 732 267 658 471 423 397 176 286 273  56 392  75 749 398 237 255 190\n",
      " 706 264 315 691 611 353 650 119 318 752  12 129 607 436 602 589 743 603\n",
      " 100 191 389  66 331 160 595 187 646  97 102 293 155 226 516 544 507  70\n",
      " 751 460 761 228 502 504 627 300 702 317   4 600 171 335  59 620 196 508\n",
      " 536 572 133 745 741 246 521 104 409 204 708 279 130 626 406  46 616 690\n",
      " 141 564 624 451  38 440  81 148 197 674 467 724   3 272  65 169 517 573\n",
      " 725 386 345  61 333 529 355  28 431  20 613  82 458  69  86  17 742  90\n",
      " 740  14 111 247  26 677 694 598  23 276 680 239 496 112 368 556 711 527\n",
      " 296 225 319 420 149 357 590 500 271 153 363  68 750 759 308 336 647   8\n",
      "   7 201 407  96 325 469 310 493 656 663 323 145 693 299 306 580 379  34\n",
      " 757 686 731 636 550  94 164 483 189 660 515 596 341 146 124 726 678 179\n",
      " 522 266  55 290  74 211 248 524 584  25 505 563 450 128  77 433 491 560\n",
      " 511 205 625 158 214 343  89  31 714 144 637 746 320 405 473 188 304 126\n",
      " 506  62 692 178 468 109]\n",
      "TRAIN: [ 46 398 736 308  57 372 220 695 694 619  64 610 744 256 752 190 528 266\n",
      " 471 151 690 472 597 767 641 277 457  59  75 757 249 322 345  19  99 502\n",
      " 444 519 687 438 730 128 105  94 558 373   1 700  11 181 724 250 114 741\n",
      "  30   3 481 671 517 153  51 155 188  98 226 423 402 434  71  95 240 424\n",
      "  17 754 719 113 688 541 765 648 108 119 513 722 381 225 397 411 364 267\n",
      "  81 348 601 559 743 219 421 636 624 164 178 593  23 320 449 707 175 243\n",
      " 158  93 642 242 701 391 287  90 446 389 415 275 615 366 129 551 491 720\n",
      " 264 361 304 299 525 623 609 137 516 578   6 148 534 179 368 248 621 140\n",
      " 288 159  82 747 294 721 746 467  29 425 657 301 441 692 197  32 160 122\n",
      " 439 614 141 321  85 157 400 182  16 133 570 418  84 378 430  31 217 184\n",
      " 531  76 147 365 216 750  27 473 199 608 453 139 484  13 244 699 477 312\n",
      " 602 316 751 739 127 278 547 669  41 469 138 713 200 123 224  78 401 498\n",
      " 738 337 406 431 664 268 259 328  50 289 145 499 342 124 532 647 764 369\n",
      " 191 413 595 383 380  61 591 727 737 230 755 470 231 451 269  44  58 505\n",
      " 432 742 506  55 677 255 142 682 347 452 171 537 543 263 173 227 205  40\n",
      " 302 504 645 174 622 455 276 530 661 753 708  72  42 733 149 408 548 443\n",
      " 579 340 510 748 474 575 672 571 395 560 319 635 577  77 405 125 553 313\n",
      " 710 584 676  35 386 465 486 116 180 390 247 416 170   9 355 596 567 335\n",
      " 317 616  66 723 450 585  26 331 521 339 343  96 658 115  39 665 681 464\n",
      "  97 201 427 639 569 527 371 600 702 463 655 666  22 254 261 265 697  53\n",
      " 239 488 192 134 679 245  60 512 193 228 354 606 620 549 132 705 763 715\n",
      " 458 714 212 168 326 485] TEST: [166 756 535 375 419 652 650 646  52 183  36 557  25 428 546 272 617 349\n",
      " 233 633 497 204  21 762 563 731 334 336 476 487 667 194 215 436 203 161\n",
      " 417 300 297 169 392 698 480  33 325 565  47 359 374 126 456 574 475 511\n",
      " 631 214 135 241 433 286 627 314 447 103  74 717 580 562  88 445 668  73\n",
      " 568 150 290 218 274  79 524  80 333 583 100 490 206 253  43 165 106 492\n",
      " 483 683 285  28 766 696 448 177 656 318 207 556 305 711 592 670   2 630\n",
      "  14 238 509  86 663 653 350 607 234 613 136 662 152 594 533 102 632 262\n",
      " 352 726 410  70 324 654 306 555 363 211 529 454 576 640 461 503 728 210\n",
      " 281 309 172 603 109 586 307 404 649 538 501  56 689 494 329 426 522 435\n",
      " 644 143 311  91 500 542  20 729 209 718 221 514 735 237 360 110  67 605\n",
      "  24 673 120 376 660 629 674 279 604 628  69 387 407 399 634 117 685 725\n",
      "   8 489 638 130 353 599 330 118 162 258 271 680 684 761 740 536   4 223\n",
      "  37 144 523 112 146 377  38 323 338 589 552 659 284  18 760 156 479 758\n",
      " 154  49 403 310 246 104  45 327 540 598 370 573 121 637 251 564 442 303\n",
      " 131 709  12 292 107   5 478 611 195 572  92 686 409 358 229  87  83 222\n",
      " 508 581  48 734 252 282 496 356 515 232 518 236 273 588 385 706  89 202\n",
      " 111 626 346 367 167 394 315   0 280 295 293 291 189 493 590  34 582 749\n",
      " 712 539 362  62 257 544 675  63  54 545 332 704 379 185  65 388 561 351\n",
      " 550 678 283  68 213  15 186 420 520 296 759 618 344 260 459 716 691 270\n",
      " 393 651 412 101 482 440 298 587 745 462 357 625 163 437 382 414 643 554\n",
      " 341 612 468 507 429 176 566 187 703 466 460 198 396 196 208 526 384 732\n",
      " 693   7 422 495  10 235]\n",
      "TRAIN: [679 362 224 496 213 697 193 661 279 529 510 274  63 683 647 684 612 457\n",
      " 134 591 754 767 115 532 301 717 657 122 128 223 361  64 660 186 524 635\n",
      " 611 764 281 262 485  66 584 619 236 583  69  77 139 652 256 323 743 649\n",
      " 180 322 636 341 102 543 294 645 575 219 544 688 631 238 739 427 418 218\n",
      " 500 402 497 300 525 116 655 617 424 182 329 658 750 671 226 624  36  31\n",
      " 412 246 344  46 521 394  70 537 131 157 152 582 376  14 353 247 628 581\n",
      " 468 203 200 554 258 178 442 704 513 498 492 470  20 277 601 312 169 722\n",
      "  42 488 654 672 546 125  99 607 656 610 143 147 360 667 168  10 377 534\n",
      " 366 229 324 567 151 714 250 171 757 386 408  74 516  22 417  28 270 452\n",
      " 371 316 718 109 309 578 503 351 257 589 451 506 733 564 172 167 108 304\n",
      " 195 474 464 103  57 383 373 535 501 205 201 573 400  24 553  67 700 297\n",
      "  52 674  73 191 609 695 315 133 453 662 748 511 565 429 740 299 504 458\n",
      " 162 596 287 703 189 335 292  18 298  23 530 760 677 267  33  45 156 551\n",
      " 621 404 512 145 625 242 478 356 261 198 642 499 253 199 359   0 302 419\n",
      "  80 595 123 357  82 522 545  34 746 370 588 533  65 592 207 282 164 280\n",
      " 265  89 711  44 616 706 107 715 730 574 208 284 206 423 620 421 482 720\n",
      " 388 399 531 174 438 106 428 626 278 331 188 398   2 440 332 724 598 259\n",
      " 414 555 727 291 433 705  59  13 255 240 765   3 449 494 389 137 741 118\n",
      " 364 244 479 426 731 141 744  54 212 311  90 477 686 241 144 112  72 753\n",
      " 668 268 693 566  78 110 113 669  25 303 615  91 751 183 639 127  11 509\n",
      " 634   7 455 286 559 632 723 176 519 413 572 215 689 319 111 245 523 276\n",
      " 698 340 465 728 221 473] TEST: [101 738 644  21 380 405 234 163   8 210 407 495 271  94 725 222 216 285\n",
      " 124 618 726 540 430   4 410 148 190 445 676 483 637  96  51 518 710 447\n",
      " 290 469 132 387 702 486 653 254 391 766 484 381 763 489 202  56 712  26\n",
      " 602 527 349 159 694 638 158 384 153 363 385 528 614 328 508 403  41 580\n",
      " 425 708 627 342 633 184 561 165 119 560 542 214 747 142 406  95 729 227\n",
      "  84 758 562 721 475 220 480 266 330 367 295 734 231 520 736 577 149 117\n",
      " 369 243 690   9  86 432 392  27 665 248 594 252 650 217 260 441 491 755\n",
      " 237 283  35 192 685  32  93  49  76 249 138 120 161 374  30 536 393 194\n",
      "  17  37 321 136  97 463 305 756 435 623 517 379 239  83 681 289 460 687\n",
      " 678 337 140  55 666 629 420 507 375 571 365 352 114 314  81 709 263 493\n",
      " 450 264 306 646 466 293  29 556 732 197 539 355   6 166 126 673 347 448\n",
      " 317 597 350 233 318 275 548 431 696 343 699 538 397  39 600 232 308  71\n",
      " 570 682 541 235 549 490 348  92 444 467 599  87   5 737 177 515 346 368\n",
      " 288  98 622 606 742 146  47 563 651 707  15 659 590 409 558  53 251 372\n",
      " 481 436 415 313 579 307 333 154 459  19 675 505 411  85 586 336 105 327\n",
      " 502 358 456 461 576 593 749 354 568 663 196 613 326 160 434  68 320 225\n",
      " 155 526 338 640 175 339  75 745 130  62 187 462  43 204 605 487 228 269\n",
      " 713 716 396  58 557 603  38 181 170  79 121 761  40 104 550 416  50 454\n",
      " 701 209 129 173 272 547  88 735 401 670 476 759 135 100  16 296  61 641\n",
      " 378 587 585 150 552 185 273 630   1 648 211 608 643 437 439 382  12 680\n",
      " 390 395  48 471 334 179 604 446 762 345 752 691 569 443 310 325  60 472\n",
      " 692 664 514 422 230 719]\n",
      "TRAIN: [ 69 738  55  49 702 521 204 736 719  29 148 157 508 585 385 758 544 376\n",
      " 389 364  14 253 705 166 214 406 327 141 231  52 561 469  93 437 131 378\n",
      " 367 558 192  75  94 748 489 313  53 155 711 763 217 598  35 516  24 303\n",
      " 439 388 520 531 643 124  10 200 645  99 505 292 210 336 105 452 349 646\n",
      " 298 423 441 733 220 279  64 757  19  37 608  81  82 134 596 454 485 435\n",
      " 751 345 328 480 572 344   8 396 694  36  76 125 584 615 647 211 692 724\n",
      " 285 612 459 433 669 588 487 450 331 330  83 504 224 573 244 223 658 225\n",
      " 603 722 526 641 651 178 471 524 513 580 490  66  86  71 752 665 445 171\n",
      " 262 577 592 177 557  33 203 540 713 271 731 259   7 126 213 619 644  16\n",
      " 447 552 511 296 499 533 322  50 375 636 381 168 269 143 266  87 309 164\n",
      " 307   6  65   3 337 209 514 103 333 161 693 539 679 472 674  97 725 613\n",
      " 707   4 465 264 734 352 172 720 241 478 609  63 554 334 453 310 254 169\n",
      " 121 104 727  60 562 368 338 564 556 315 156 546 701 232 255 248 700  43\n",
      " 492 620 548 300 759 219  40 602 656 240 519 399 710 274   1  92 182  73\n",
      " 547  77 695 607 661 555 202 428 429 239 163 387 284 493 421 181 384 431\n",
      " 402  79 247 290  67 688 289  96 297 160 599 422 112 482 416 230 537  38\n",
      " 466 199 440 102 194 574 749 481 272 617 583 691 261 629 332 101 117 755\n",
      " 637 510 678 662 640 267 413 535 207 243 484 393 391 190 127 600 383 221\n",
      " 593 491 170 280  42 494 196 569 671 343 407 650 238 590 586 717 570 690\n",
      " 464  74 648 448 726 672 335 522 119 545 195  17 606 750 291 618 270 642\n",
      "  25 430 227 175 316 414 567 625 329 456 449 611 657 312 283 151 326 652\n",
      " 314 356 122 308 718 709] TEST: [676 397 715 708 278  72 348 176 180 152 265 670 242  26  85 273 256 158\n",
      "  48 687 139 699 474 128 366 476 581 188 294 538  31 455 299 245 191 457\n",
      " 760 498 488 446 685 601 506 401 365 147 530 150 746 438 246 689 409 668\n",
      " 767 115 234 764 475 684 304 737 395  21 287 351 268 729 249 173 186 571\n",
      " 745 515 276 222 635 576 762  30 509 340 551 575 744 634 550 621  68  54\n",
      " 655  46  20 500  62 639  51  34 305 216 373  41 212 321 503 130 653 730\n",
      " 189 251 502 723 468 145 605 753 740 318 664 589  56 534 206 355 470 432\n",
      " 184 362 427 732 582 696 697 277 136 680  15 660 357  70  88 728 666 594\n",
      " 766  61   2 140 529 382 392  23 721 380 682 523 677 703 473  22 187 233\n",
      " 412 739 714 350 425 179 301  28 386 512 198  90 525 144  44 129 667  98\n",
      " 153 218 302   9 649 631 591 360 215 420 627 405 107 630 133 281 149 542\n",
      " 497 361 595  45 123 578 323 109 741 614 477  18 311 501  57 626 659  59\n",
      " 400 185 495 324  84 372 735 353 201 716 417 341 563 374  39 390 442 197\n",
      " 114 237 100 560 543 370 229 404 579 347  32 624 162 394 565   5 756 633\n",
      " 765 346  11 553 286 559  12 118 536 325 408 638 462 541 208 654 317 250\n",
      " 527 354 528 252 681 106 403 135 632 120 236  78 458 704 566 258 410  27\n",
      "  47 113 663 371 706  13 507 288 293  58 675 339 747 610 451 761   0 167\n",
      " 743 549 228 673 628 424 358 257 377 411 205 597 436 712 183 275 174 235\n",
      " 461 698 623 398 483 159 108 132  95 587 319  80 260 460 154 295  91 426\n",
      " 116 443 419 110 517 415 193 137 165 486 467 369 142 742 434 604 568 683\n",
      " 263 686 518 379 532 342 306 479 146 754 444 418 138 320 359 463 363 111\n",
      "  89 496 622 616 282 226]\n"
     ]
    }
   ],
   "source": [
    "X = df.drop(\"Outcome\", axis=1).values\n",
    "y = df[\"Outcome\"].values\n",
    "sss = StratifiedShuffleSplit(n_splits=5, test_size=0.5, random_state=0)\n",
    "sss.get_n_splits(X, y)\n",
    "\n",
    "print(sss)       \n",
    "\n",
    "for train_index, test_index in sss.split(X, y):\n",
    "    print(\"TRAIN:\", train_index, \"TEST:\", test_index)\n",
    "    X_train, X_test = X[train_index], X[test_index]\n",
    "    y_train, y_test = y[train_index], y[test_index]"
   ]
  },
  {
   "cell_type": "code",
   "execution_count": 34,
   "metadata": {},
   "outputs": [
    {
     "data": {
      "text/plain": [
       "(384, 8)"
      ]
     },
     "execution_count": 34,
     "metadata": {},
     "output_type": "execute_result"
    }
   ],
   "source": [
    "X_train.shape"
   ]
  },
  {
   "cell_type": "markdown",
   "metadata": {},
   "source": [
    "# 9. Train Support Vector Machine Model"
   ]
  },
  {
   "cell_type": "code",
   "execution_count": 45,
   "metadata": {},
   "outputs": [
    {
     "name": "stdout",
     "output_type": "stream",
     "text": [
      "              precision    recall  f1-score   support\n",
      "\n",
      "          No       0.65      1.00      0.79       250\n",
      "         Yes       0.00      0.00      0.00       134\n",
      "\n",
      "    accuracy                           0.65       384\n",
      "   macro avg       0.33      0.50      0.39       384\n",
      "weighted avg       0.42      0.65      0.51       384\n",
      "\n"
     ]
    },
    {
     "name": "stderr",
     "output_type": "stream",
     "text": [
      "/home/imperio/.virtualenvs/ML/lib/python3.6/site-packages/sklearn/svm/base.py:193: FutureWarning: The default value of gamma will change from 'auto' to 'scale' in version 0.22 to account better for unscaled features. Set gamma explicitly to 'auto' or 'scale' to avoid this warning.\n",
      "  \"avoid this warning.\", FutureWarning)\n",
      "/home/imperio/.virtualenvs/ML/lib/python3.6/site-packages/sklearn/metrics/classification.py:1437: UndefinedMetricWarning: Precision and F-score are ill-defined and being set to 0.0 in labels with no predicted samples.\n",
      "  'precision', 'predicted', average, warn_for)\n"
     ]
    }
   ],
   "source": [
    "from sklearn.svm import SVC\n",
    "clf = SVC()\n",
    "clf.fit(X_train, y_train)\n",
    "print(classification_report(y_test, clf.predict(X_test), target_names=[\"No\", \"Yes\"]))"
   ]
  },
  {
   "cell_type": "markdown",
   "metadata": {},
   "source": [
    "# 10. Scale the data points using MinMaxScaler"
   ]
  },
  {
   "cell_type": "code",
   "execution_count": 40,
   "metadata": {},
   "outputs": [],
   "source": [
    "from sklearn.preprocessing import MinMaxScaler\n",
    "scaler = MinMaxScaler()\n",
    "scaler.fit(X_train)\n",
    "X_trainPP = scaler.transform(X_train)"
   ]
  },
  {
   "cell_type": "markdown",
   "metadata": {},
   "source": [
    "# 11. Fit SVM Model on Scale data and give your observation"
   ]
  },
  {
   "cell_type": "code",
   "execution_count": 54,
   "metadata": {},
   "outputs": [
    {
     "name": "stdout",
     "output_type": "stream",
     "text": [
      "              precision    recall  f1-score   support\n",
      "\n",
      "          No       0.79      0.80      0.79       250\n",
      "         Yes       0.62      0.61      0.61       134\n",
      "\n",
      "    accuracy                           0.73       384\n",
      "   macro avg       0.70      0.70      0.70       384\n",
      "weighted avg       0.73      0.73      0.73       384\n",
      "\n"
     ]
    },
    {
     "name": "stderr",
     "output_type": "stream",
     "text": [
      "/home/imperio/.virtualenvs/ML/lib/python3.6/site-packages/sklearn/svm/base.py:193: FutureWarning: The default value of gamma will change from 'auto' to 'scale' in version 0.22 to account better for unscaled features. Set gamma explicitly to 'auto' or 'scale' to avoid this warning.\n",
      "  \"avoid this warning.\", FutureWarning)\n"
     ]
    }
   ],
   "source": [
    "clf.fit(X_trainPP, y_train)\n",
    "print(classification_report(y_test, clf.predict(scaler.transform(X_test)), target_names=[\"No\", \"Yes\"]))"
   ]
  },
  {
   "cell_type": "markdown",
   "metadata": {},
   "source": [
    "# 12. Try improving the model accuracy using C=1000"
   ]
  },
  {
   "cell_type": "code",
   "execution_count": 53,
   "metadata": {},
   "outputs": [
    {
     "name": "stdout",
     "output_type": "stream",
     "text": [
      "              precision    recall  f1-score   support\n",
      "\n",
      "          No       0.79      0.80      0.79       250\n",
      "         Yes       0.62      0.61      0.61       134\n",
      "\n",
      "    accuracy                           0.73       384\n",
      "   macro avg       0.70      0.70      0.70       384\n",
      "weighted avg       0.73      0.73      0.73       384\n",
      "\n"
     ]
    },
    {
     "name": "stderr",
     "output_type": "stream",
     "text": [
      "/home/imperio/.virtualenvs/ML/lib/python3.6/site-packages/sklearn/svm/base.py:193: FutureWarning: The default value of gamma will change from 'auto' to 'scale' in version 0.22 to account better for unscaled features. Set gamma explicitly to 'auto' or 'scale' to avoid this warning.\n",
      "  \"avoid this warning.\", FutureWarning)\n"
     ]
    }
   ],
   "source": [
    "clf = SVC(C=1000)\n",
    "clf.fit(X_trainPP, y_train)\n",
    "print(classification_report(y_test, clf.predict(scaler.transform(X_test)), target_names=[\"No\", \"Yes\"]))"
   ]
  },
  {
   "cell_type": "markdown",
   "metadata": {},
   "source": [
    "# Here, increasing C allows us to improve the model, resulting in 81.2% train set accuracy."
   ]
  }
 ],
 "metadata": {
  "kernelspec": {
   "display_name": "Python 3",
   "language": "python",
   "name": "python3"
  },
  "language_info": {
   "codemirror_mode": {
    "name": "ipython",
    "version": 3
   },
   "file_extension": ".py",
   "mimetype": "text/x-python",
   "name": "python",
   "nbconvert_exporter": "python",
   "pygments_lexer": "ipython3",
   "version": "3.6.8"
  }
 },
 "nbformat": 4,
 "nbformat_minor": 2
}
