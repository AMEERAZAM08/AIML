{
 "cells": [
  {
   "cell_type": "markdown",
   "metadata": {},
   "source": [
    "### Importing Dependencies"
   ]
  },
  {
   "cell_type": "code",
   "execution_count": 2,
   "metadata": {},
   "outputs": [],
   "source": [
    "import numpy as np"
   ]
  },
  {
   "cell_type": "markdown",
   "metadata": {},
   "source": [
    "### Definition of vectors\n",
    "- vectors are n dimensional quantities which represents a data point on a n-dimensional space.\n",
    "- a vector has both magnitude and direction\n",
    "- a vector is represented in the following notation\n",
    "    $\\begin{align}\n",
    "    U &= \\begin{bmatrix}\n",
    "       x_{1} \\\\\n",
    "       x_{2} \\\\\n",
    "       \\vdots \\\\\n",
    "       x_{m}\n",
    "     \\end{bmatrix}_{m x 1}\n",
    "    \\end{align}$ \n",
    "    or $\\begin{align}\n",
    "    U^t &= [x_1 \\ x_2 \\ x_3 \\ \\dots \\ x_m]_{1x m}\n",
    "    \\end{align}$ \n",
    "- In analytic geometry it’s convenient to use columns of coordinates for points. Coefficients of linear equations are usually arranged in rows.\n",
    "\n",
    "- We can define vectors and perform various operations on vectors using numpy in python"
   ]
  },
  {
   "cell_type": "code",
   "execution_count": 7,
   "metadata": {},
   "outputs": [],
   "source": [
    "u = np.array([3,4])\n",
    "v = np.array([30,40])\n",
    "w = np.array([2, 5])"
   ]
  },
  {
   "cell_type": "markdown",
   "metadata": {},
   "source": [
    "### Magnitude of a vector\n",
    "- magnitude is defined as $\\|U\\| = \\sqrt{x^2_1 + x^2_2 + x^2_3 .... + x^2_m}$\n",
    "\n",
    "using norm function in numpy we can compute the magnitude of a vector with ease"
   ]
  },
  {
   "cell_type": "code",
   "execution_count": 4,
   "metadata": {},
   "outputs": [
    {
     "name": "stdout",
     "output_type": "stream",
     "text": [
      "5.0\n",
      "50.0\n"
     ]
    }
   ],
   "source": [
    "print(np.linalg.norm(u))\n",
    "print(np.linalg.norm(v))"
   ]
  },
  {
   "cell_type": "markdown",
   "metadata": {},
   "source": [
    "### Properties of vectors\n",
    "\n",
    "- Additive Property: for\n",
    "    $\n",
    "    X^t = [x_1 \\ x_2 \\ x_3 \\ \\dots \\ x_m]_{1xm}\n",
    "    $\n",
    "    ,\n",
    "    $\n",
    "    Y^t = [y_1 \\ y_2 \\ y_3 \\ \\dots \\ x_m]_{1xm}\n",
    "    $\n",
    "\n",
    "    $\n",
    "    X^t + Y^t =\n",
    "    $\n",
    "    $\n",
    "    [x_1 \\ x_2 \\ x_3 \\ \\dots \\ x_m]_{1xm} \\ + \\ [y_1 \\ y_2 \\ y_3 \\ \\dots \\ y_m]_{1xm} = [x_1 + y_1 \\ x_2 + y_2 \\ x_3 + y_3 \\ \\dots \\ x_m + y_m]_{1xm}\n",
    "    $\n",
    "    \n",
    " \n",
    "- Commutative Property:\n",
    "$\n",
    "X + Y = Y + X _{(Commutative \\ property)}\n",
    "$\n",
    "- Associative Property:\n",
    "$\n",
    "X + (Y + Z)  = (X + Y) + Z _{(Associative \\  property)}\n",
    "$ "
   ]
  },
  {
   "cell_type": "code",
   "execution_count": 11,
   "metadata": {},
   "outputs": [
    {
     "name": "stdout",
     "output_type": "stream",
     "text": [
      "addition of vectors:\n",
      "[33 44]\n",
      "\n",
      "commutative property:\n",
      "u+v =  [33 44] \n",
      "v+u =  [33 44]\n",
      "\n",
      "Associative property:\n",
      "u+(v+w) =  [35 49] \n",
      "(u+v)+w =  [35 49]\n"
     ]
    }
   ],
   "source": [
    "print(\"addition of vectors:\")\n",
    "print(u+v)\n",
    "\n",
    "print(\"\\ncommutative property:\")\n",
    "print(\"u+v = \", u+v, \"\\nv+u = \", v+u)\n",
    "\n",
    "print(\"\\nAssociative property:\")\n",
    "print(\"u+(v+w) = \", u+(v+w), \"\\n(u+v)+w = \", (u+v)+w)"
   ]
  },
  {
   "cell_type": "markdown",
   "metadata": {},
   "source": [
    "### The Direction of a vector\n",
    "- a vector $u = (x_1, x_2, x_3, .... , x_n)_{(1 x n)}$ \n",
    "\n",
    "- the direction is defined as $w = (\\frac{x_1}{\\|u\\|}, \\frac{x_2}{\\|u\\|} , \\frac{x_3}{\\|u\\|} .... \\frac{x_n}{\\|u\\|}) $\n",
    "\n",
    "- here $\\frac{x}{\\|u\\|}$ is defined as a direction using unit vectors\n",
    "- Direction vector always has a unit length i.e. norm / magnitude of the direction vector is always 1 \n",
    "- using norm function in numpy we can compute the magnitude of a vector with ease"
   ]
  },
  {
   "cell_type": "code",
   "execution_count": 7,
   "metadata": {},
   "outputs": [],
   "source": [
    "def direction(x):\n",
    "    return x/np.linalg.norm(x)"
   ]
  },
  {
   "cell_type": "code",
   "execution_count": 8,
   "metadata": {},
   "outputs": [
    {
     "name": "stdout",
     "output_type": "stream",
     "text": [
      "[0.6 0.8]\n",
      "[0.6 0.8]\n"
     ]
    }
   ],
   "source": [
    "w = direction(u)\n",
    "z = direction(v)\n",
    "print(w)\n",
    "print(z)"
   ]
  },
  {
   "cell_type": "code",
   "execution_count": 9,
   "metadata": {},
   "outputs": [
    {
     "name": "stdout",
     "output_type": "stream",
     "text": [
      "1.0\n",
      "1.0\n"
     ]
    }
   ],
   "source": [
    "# Direction vector always has a unit length i.e. norm / magnitude of the direction vector is always 1 \n",
    "\n",
    "print(np.linalg.norm(w))\n",
    "print(np.linalg.norm(z))"
   ]
  },
  {
   "cell_type": "code",
   "execution_count": 10,
   "metadata": {},
   "outputs": [],
   "source": [
    "# Dot product / projection of one vector on other, influence of one over the other\n",
    "import math\n",
    "\n",
    "def geometric_dot_product(x,y, theta):\n",
    "    x_norm = np.linalg.norm(x)\n",
    "    y_norm = np.linalg.norm(y)\n",
    "    return x_norm * y_norm * math.cos(math.radians(theta))"
   ]
  },
  {
   "cell_type": "code",
   "execution_count": 11,
   "metadata": {},
   "outputs": [
    {
     "name": "stdout",
     "output_type": "stream",
     "text": [
      "34.00000000000001\n"
     ]
    }
   ],
   "source": [
    "theta = 45   # reduce theta, dot product will increase\n",
    "X = [3,5]\n",
    "y = [8,2]\n",
    "\n",
    "print(geometric_dot_product(X, y, theta))"
   ]
  },
  {
   "cell_type": "code",
   "execution_count": 12,
   "metadata": {},
   "outputs": [],
   "source": [
    "def dot_product(X,y):\n",
    "    result = 0\n",
    "    for i in range (len(X)):\n",
    "        result = result + X[i]*y[i]\n",
    "    return(result)\n"
   ]
  },
  {
   "cell_type": "code",
   "execution_count": 13,
   "metadata": {},
   "outputs": [
    {
     "name": "stdout",
     "output_type": "stream",
     "text": [
      "34\n"
     ]
    }
   ],
   "source": [
    "X = [3,5]\n",
    "y = [8,2]\n",
    "\n",
    "print(dot_product(X,y))  # should get the same result as geometric dot produt. \n",
    "                         # instead of finding the theta, simply multiply the magnitudes of the respective dimensions"
   ]
  },
  {
   "cell_type": "code",
   "execution_count": 14,
   "metadata": {},
   "outputs": [
    {
     "name": "stdout",
     "output_type": "stream",
     "text": [
      "0.9999999999999999\n"
     ]
    },
    {
     "name": "stderr",
     "output_type": "stream",
     "text": [
      "/home/imperio/.virtualenvs/ML/lib/python3.6/site-packages/ipykernel_launcher.py:4: FutureWarning: `rcond` parameter will change to the default of machine precision times ``max(M, N)`` where M and N are the input matrix dimensions.\n",
      "To use the future default and silence this warning we advise to pass `rcond=None`, to keep using the old, explicitly pass `rcond=-1`.\n",
      "  after removing the cwd from sys.path.\n"
     ]
    }
   ],
   "source": [
    "X = np.array([0, 1, 2, 3])\n",
    "y = np.array([-1, 0.2, 0.9, 2.1])\n",
    "A = np.vstack([X, np.ones(len(X))]).T\n",
    "m, c = np.linalg.lstsq(A, y)[0]\n",
    "print(m)  # recall m is tan(@) and very close to 1 indicating the theta to be 45 degrees"
   ]
  },
  {
   "cell_type": "code",
   "execution_count": 15,
   "metadata": {},
   "outputs": [
    {
     "data": {
      "text/plain": [
       "<Figure size 640x480 with 1 Axes>"
      ]
     },
     "metadata": {},
     "output_type": "display_data"
    }
   ],
   "source": [
    "import matplotlib.pyplot as plt\n",
    "\n",
    "\n",
    "plt.plot(X, m*X + c, 'b', label='line')\n",
    "plt.legend()\n",
    "plt.show()"
   ]
  },
  {
   "cell_type": "code",
   "execution_count": 16,
   "metadata": {},
   "outputs": [],
   "source": [
    "# Exercise 1 on equation of a line - given the data, find the slope and intercept and express the equation, draw the line"
   ]
  },
  {
   "cell_type": "code",
   "execution_count": 17,
   "metadata": {},
   "outputs": [
    {
     "name": "stdout",
     "output_type": "stream",
     "text": [
      "1.9999999999999998\n"
     ]
    },
    {
     "name": "stderr",
     "output_type": "stream",
     "text": [
      "/home/imperio/.virtualenvs/ML/lib/python3.6/site-packages/ipykernel_launcher.py:6: FutureWarning: `rcond` parameter will change to the default of machine precision times ``max(M, N)`` where M and N are the input matrix dimensions.\n",
      "To use the future default and silence this warning we advise to pass `rcond=None`, to keep using the old, explicitly pass `rcond=-1`.\n",
      "  \n"
     ]
    }
   ],
   "source": [
    "import numpy as np\n",
    "\n",
    "X = np.array([0, 1, 2, 3, 4])\n",
    "y = np.array([2,4,6,8,10])\n",
    "A = np.vstack([X, np.ones(len(X))]).T\n",
    "m, c = np.linalg.lstsq(A, y)[0]\n",
    "print(m)  # recall m is tan(@) and very close to 1 indicating the theta to be 45 degrees"
   ]
  },
  {
   "cell_type": "code",
   "execution_count": 18,
   "metadata": {},
   "outputs": [
    {
     "data": {
      "image/png": "[encoded data removed]",
      "text/plain": [
       "<Figure size 432x288 with 1 Axes>"
      ]
     },
     "metadata": {
      "needs_background": "light"
     },
     "output_type": "display_data"
    }
   ],
   "source": [
    "import matplotlib.pyplot as plt\n",
    "\n",
    "\n",
    "plt.plot(X, m*X + c, 'b', label='line')\n",
    "plt.legend()\n",
    "plt.show()"
   ]
  }
 ],
 "metadata": {
  "kernelspec": {
   "display_name": "Python 3",
   "language": "python",
   "name": "python3"
  },
  "language_info": {
   "codemirror_mode": {
    "name": "ipython",
    "version": 3
   },
   "file_extension": ".py",
   "mimetype": "text/x-python",
   "name": "python",
   "nbconvert_exporter": "python",
   "pygments_lexer": "ipython3",
   "version": "3.6.8"
  }
 },
 "nbformat": 4,
 "nbformat_minor": 2
}
