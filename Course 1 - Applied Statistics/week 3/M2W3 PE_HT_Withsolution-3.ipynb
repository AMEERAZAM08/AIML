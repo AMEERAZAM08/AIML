{
 "cells": [
  {
   "cell_type": "markdown",
   "metadata": {},
   "source": [
    "# 1. You are a manager of a chinese restaurant. You want to determine whether the waiting time to place an order has changed in the past month from its previous population mean value of 4.5 minutes. State the null and alternative hypothesis."
   ]
  },
  {
   "cell_type": "code",
   "execution_count": null,
   "metadata": {},
   "outputs": [],
   "source": [
    "The null hypothesis is that the population mean has not changed from its previous value of 4.5 minutes. This is stated \n",
    "as\n",
    "H0: µ = 4.5\n",
    "The alternative hypothesis is the opposite of the null hypothesis. Because the null hypothesis is that the population\n",
    "mean is 4.5 minutes, the alternative hypothesis is that the population mean is not 4.5 minutes. This is stated as\n",
    "H1 : µ not equal to 4.5"
   ]
  },
  {
   "cell_type": "markdown",
   "metadata": {},
   "source": [
    "# 2. Summarize the p- value Approach to hypothesis testing."
   ]
  },
  {
   "cell_type": "code",
   "execution_count": null,
   "metadata": {},
   "outputs": [],
   "source": [
    "Step 1: State the null hypothesis, H0, and the null hypothesis, H1.\n",
    "Step 2: Choose the level of significance, α, and the sample size, n. The level of significance is based on the \n",
    "    relative importance of the risks of computing Type 1 and Type 2 errors in the problem.\n",
    "Step 3: Determine the apppropriate test statistic and the sampling distribution.\n",
    "Step 4: Collect the sample data, compute the value of the test statistic, and compute the p-value.\n",
    "Step 5: Make the statistical decision and state the managerial conclusion in the context of the theory, claim, or \n",
    "    assertion being tested. If the p-value is less than α, reject the null hypothesis."
   ]
  },
  {
   "cell_type": "markdown",
   "metadata": {},
   "source": [
    "# 3. If you use a 0.05 level of significance in a two-tail hypothesis test. What decision will you make if Zstat = +2.21?"
   ]
  },
  {
   "cell_type": "code",
   "execution_count": null,
   "metadata": {},
   "outputs": [],
   "source": [
    "Because Zstat = +2.21 > 1.96, reject H0"
   ]
  },
  {
   "cell_type": "markdown",
   "metadata": {},
   "source": [
    "# 4. If you use a 0.01 level of significance in a two tail hypothesis test, what is your decision rule for rejecting H0: µ = 12.5 if you use the Z test?"
   ]
  },
  {
   "cell_type": "code",
   "execution_count": null,
   "metadata": {},
   "outputs": [],
   "source": [
    "Reject H0 if Zstat < -2.58 or if Zstat > 2.58"
   ]
  },
  {
   "cell_type": "markdown",
   "metadata": {},
   "source": [
    "# 5. What is the p value if, in a two-tail hypothesis test, Zstat = +2.00?"
   ]
  },
  {
   "cell_type": "code",
   "execution_count": null,
   "metadata": {},
   "outputs": [],
   "source": [
    "p value = 0.0456"
   ]
  },
  {
   "cell_type": "markdown",
   "metadata": {},
   "source": [
    "# 6. Samy, Product Manager of K2 Jeans, wants to Launch a product line into a new market area.Survey of random sample of 400 households in that market showed a mean income per household of 30000 rupees. Standard deviation based on earlier pilot study of households is 8000 rupees. Samy strongly believes the product line will be adequately profitable only in markets where the mean household income is greater than 29000 rupees Samy wants our help in deciding whether the product line should be introduced in the New market? Based on statistical analysis\n",
    "What would be your recommendation? Give your insights."
   ]
  },
  {
   "cell_type": "markdown",
   "metadata": {},
   "source": [
    "Statistical significance - Can I say at 95% confidence interval say that the income in the market is 29000 rupees\n",
    "Null Hypothesis: Mean income of household is 29000 \n",
    "    H0: µ = 29000 \n",
    "Alternate Hypothesis: Mean income of household is greater than 29000\n",
    "    H1: µ > 29000 "
   ]
  },
  {
   "cell_type": "markdown",
   "metadata": {},
   "source": [
    "x̅= 30000\n",
    "μ = 29000 (based on null hypothesis)\n",
    "σ= 8000\n",
    "n = 400\n",
    "𝑍=(x̅−μ)σ/(squareroot of n)= (30000–29000))8000400= 2.5"
   ]
  },
  {
   "cell_type": "markdown",
   "metadata": {},
   "source": [
    "Interpretation of p value: The risk of rejecting the null hypothesis when it is true is 0.0062; That means at 99.38% confidence \n",
    "level, I can say the mean income is more than 29000\n",
    "Decision rule: The p-value has to be compared with your desired α. When αis not specified, it is assumed as 0.05. With α= 0.05 \n",
    "and p-value as 0.0062, the Null Hypothesis is overwhelmingly rejected and Alternate Hypothesis may be accepted"
   ]
  },
  {
   "cell_type": "code",
   "execution_count": 3,
   "metadata": {},
   "outputs": [
    {
     "data": {
      "text/plain": [
       "0.006209665"
      ]
     },
     "execution_count": 3,
     "metadata": {},
     "output_type": "execute_result"
    }
   ],
   "source": [
    "from scipy.stats import norm\n",
    "import scipy.stats as st\n",
    "from math import *\n",
    "\n",
    "#using Z Score for Samy's problem\n",
    "round(1-norm.cdf(2.5),9)"
   ]
  },
  {
   "cell_type": "markdown",
   "metadata": {},
   "source": [
    "# 7. A bottled water distributor wants to determine whether the mean amount of water contained in 1- gallon bottles purchased from a nationality known water bottling company is actually 1 gallon. You know from the water bottle company specifications that the standard deviation of the amount of water per bottle is 0.02 gallon. You select a random sample of 50 bottles, and the mean amount of water per gallon bottle is 0.995 gallon.\n",
    "\n",
    "a) Is there evidence that the mean amount is different from 1.0 gallon?(Use α = 0.01)\n",
    "\n",
    "b) Construct a 99% confidence interval estimate of the population mean amount of water per bottle.\n",
    "\n",
    "c) Compare the results of a and b. What conclusions do you reach?"
   ]
  },
  {
   "cell_type": "code",
   "execution_count": null,
   "metadata": {},
   "outputs": [],
   "source": [
    "a) Because -2.58 < Zstat = -1.7678 <2.58 , do not reject H0\n",
    "b) 0.9877 <= µ <= 1.0023\n",
    "c) The conclusions are the same."
   ]
  },
  {
   "cell_type": "markdown",
   "metadata": {},
   "source": [
    "# 8.  If in sample of n = 16 selected from a normal population, Xbar = 56 and S = 12, what is the value of tstat if you are testing the null hypothesis Ho : µ = 50?"
   ]
  },
  {
   "cell_type": "code",
   "execution_count": null,
   "metadata": {},
   "outputs": [],
   "source": [
    "tstat = 2.00"
   ]
  },
  {
   "cell_type": "markdown",
   "metadata": {},
   "source": [
    "# 9. If in a sample of n  = 16 selected from a left-skewed population, Xbar = 65 and S =12, would you use the t test to test the null hypothesis H0: µ =60? Discuss."
   ]
  },
  {
   "cell_type": "code",
   "execution_count": null,
   "metadata": {},
   "outputs": [],
   "source": [
    "No, you should not use a t test because the original population is left skewed, and the sample size is not large enough\n",
    "for the t test to be valid."
   ]
  },
  {
   "cell_type": "markdown",
   "metadata": {},
   "source": [
    "# 10. Calculate Paired t test using python"
   ]
  },
  {
   "cell_type": "markdown",
   "metadata": {},
   "source": [
    "# The file Concrete.csv contains the compressive strength, in thousands • of pounds per square inch (psi), of 40 samples of concrete taken two and seven days after pouring. (Data extracted from O. CarrilloGamboa and R. F. Gunst, “Measurement – Error – Model Collinearities”, Technometrics, 34 (1992): 454 – 464.)"
   ]
  },
  {
   "cell_type": "markdown",
   "metadata": {},
   "source": [
    "# At the 0.01 level of significance, is there evidence that the means strength is lower at two days than at seven days?"
   ]
  },
  {
   "cell_type": "code",
   "execution_count": 2,
   "metadata": {},
   "outputs": [
    {
     "data": {
      "text/html": [
       "<div>\n",
       "<style scoped>\n",
       "    .dataframe tbody tr th:only-of-type {\n",
       "        vertical-align: middle;\n",
       "    }\n",
       "\n",
       "    .dataframe tbody tr th {\n",
       "        vertical-align: top;\n",
       "    }\n",
       "\n",
       "    .dataframe thead th {\n",
       "        text-align: right;\n",
       "    }\n",
       "</style>\n",
       "<table border=\"1\" class=\"dataframe\">\n",
       "  <thead>\n",
       "    <tr style=\"text-align: right;\">\n",
       "      <th></th>\n",
       "      <th>Sample</th>\n",
       "      <th>TwoDays</th>\n",
       "      <th>SevenDays</th>\n",
       "    </tr>\n",
       "  </thead>\n",
       "  <tbody>\n",
       "    <tr>\n",
       "      <th>0</th>\n",
       "      <td>1</td>\n",
       "      <td>2.830</td>\n",
       "      <td>3.505</td>\n",
       "    </tr>\n",
       "    <tr>\n",
       "      <th>1</th>\n",
       "      <td>2</td>\n",
       "      <td>3.295</td>\n",
       "      <td>3.430</td>\n",
       "    </tr>\n",
       "    <tr>\n",
       "      <th>2</th>\n",
       "      <td>3</td>\n",
       "      <td>2.710</td>\n",
       "      <td>3.670</td>\n",
       "    </tr>\n",
       "    <tr>\n",
       "      <th>3</th>\n",
       "      <td>4</td>\n",
       "      <td>2.855</td>\n",
       "      <td>3.355</td>\n",
       "    </tr>\n",
       "    <tr>\n",
       "      <th>4</th>\n",
       "      <td>5</td>\n",
       "      <td>2.980</td>\n",
       "      <td>3.985</td>\n",
       "    </tr>\n",
       "    <tr>\n",
       "      <th>5</th>\n",
       "      <td>6</td>\n",
       "      <td>3.065</td>\n",
       "      <td>3.630</td>\n",
       "    </tr>\n",
       "    <tr>\n",
       "      <th>6</th>\n",
       "      <td>7</td>\n",
       "      <td>3.765</td>\n",
       "      <td>4.570</td>\n",
       "    </tr>\n",
       "    <tr>\n",
       "      <th>7</th>\n",
       "      <td>8</td>\n",
       "      <td>3.265</td>\n",
       "      <td>3.700</td>\n",
       "    </tr>\n",
       "    <tr>\n",
       "      <th>8</th>\n",
       "      <td>9</td>\n",
       "      <td>3.170</td>\n",
       "      <td>3.660</td>\n",
       "    </tr>\n",
       "    <tr>\n",
       "      <th>9</th>\n",
       "      <td>10</td>\n",
       "      <td>2.895</td>\n",
       "      <td>3.250</td>\n",
       "    </tr>\n",
       "    <tr>\n",
       "      <th>10</th>\n",
       "      <td>11</td>\n",
       "      <td>2.630</td>\n",
       "      <td>2.850</td>\n",
       "    </tr>\n",
       "    <tr>\n",
       "      <th>11</th>\n",
       "      <td>12</td>\n",
       "      <td>2.830</td>\n",
       "      <td>3.340</td>\n",
       "    </tr>\n",
       "    <tr>\n",
       "      <th>12</th>\n",
       "      <td>13</td>\n",
       "      <td>2.935</td>\n",
       "      <td>3.630</td>\n",
       "    </tr>\n",
       "    <tr>\n",
       "      <th>13</th>\n",
       "      <td>14</td>\n",
       "      <td>3.115</td>\n",
       "      <td>3.675</td>\n",
       "    </tr>\n",
       "    <tr>\n",
       "      <th>14</th>\n",
       "      <td>15</td>\n",
       "      <td>2.985</td>\n",
       "      <td>3.475</td>\n",
       "    </tr>\n",
       "    <tr>\n",
       "      <th>15</th>\n",
       "      <td>16</td>\n",
       "      <td>3.135</td>\n",
       "      <td>3.605</td>\n",
       "    </tr>\n",
       "    <tr>\n",
       "      <th>16</th>\n",
       "      <td>17</td>\n",
       "      <td>2.750</td>\n",
       "      <td>3.250</td>\n",
       "    </tr>\n",
       "    <tr>\n",
       "      <th>17</th>\n",
       "      <td>18</td>\n",
       "      <td>3.205</td>\n",
       "      <td>3.540</td>\n",
       "    </tr>\n",
       "    <tr>\n",
       "      <th>18</th>\n",
       "      <td>19</td>\n",
       "      <td>3.000</td>\n",
       "      <td>4.005</td>\n",
       "    </tr>\n",
       "    <tr>\n",
       "      <th>19</th>\n",
       "      <td>20</td>\n",
       "      <td>3.035</td>\n",
       "      <td>3.595</td>\n",
       "    </tr>\n",
       "    <tr>\n",
       "      <th>20</th>\n",
       "      <td>21</td>\n",
       "      <td>1.635</td>\n",
       "      <td>2.275</td>\n",
       "    </tr>\n",
       "    <tr>\n",
       "      <th>21</th>\n",
       "      <td>22</td>\n",
       "      <td>2.270</td>\n",
       "      <td>3.910</td>\n",
       "    </tr>\n",
       "    <tr>\n",
       "      <th>22</th>\n",
       "      <td>23</td>\n",
       "      <td>2.895</td>\n",
       "      <td>2.915</td>\n",
       "    </tr>\n",
       "    <tr>\n",
       "      <th>23</th>\n",
       "      <td>24</td>\n",
       "      <td>2.845</td>\n",
       "      <td>4.530</td>\n",
       "    </tr>\n",
       "    <tr>\n",
       "      <th>24</th>\n",
       "      <td>25</td>\n",
       "      <td>2.205</td>\n",
       "      <td>2.280</td>\n",
       "    </tr>\n",
       "    <tr>\n",
       "      <th>25</th>\n",
       "      <td>26</td>\n",
       "      <td>3.590</td>\n",
       "      <td>3.915</td>\n",
       "    </tr>\n",
       "    <tr>\n",
       "      <th>26</th>\n",
       "      <td>27</td>\n",
       "      <td>3.080</td>\n",
       "      <td>3.140</td>\n",
       "    </tr>\n",
       "    <tr>\n",
       "      <th>27</th>\n",
       "      <td>28</td>\n",
       "      <td>3.335</td>\n",
       "      <td>3.580</td>\n",
       "    </tr>\n",
       "    <tr>\n",
       "      <th>28</th>\n",
       "      <td>29</td>\n",
       "      <td>3.800</td>\n",
       "      <td>4.070</td>\n",
       "    </tr>\n",
       "    <tr>\n",
       "      <th>29</th>\n",
       "      <td>30</td>\n",
       "      <td>2.680</td>\n",
       "      <td>3.805</td>\n",
       "    </tr>\n",
       "    <tr>\n",
       "      <th>30</th>\n",
       "      <td>31</td>\n",
       "      <td>3.760</td>\n",
       "      <td>4.130</td>\n",
       "    </tr>\n",
       "    <tr>\n",
       "      <th>31</th>\n",
       "      <td>32</td>\n",
       "      <td>3.605</td>\n",
       "      <td>3.720</td>\n",
       "    </tr>\n",
       "    <tr>\n",
       "      <th>32</th>\n",
       "      <td>33</td>\n",
       "      <td>2.005</td>\n",
       "      <td>2.690</td>\n",
       "    </tr>\n",
       "    <tr>\n",
       "      <th>33</th>\n",
       "      <td>34</td>\n",
       "      <td>2.495</td>\n",
       "      <td>3.230</td>\n",
       "    </tr>\n",
       "    <tr>\n",
       "      <th>34</th>\n",
       "      <td>35</td>\n",
       "      <td>3.205</td>\n",
       "      <td>3.590</td>\n",
       "    </tr>\n",
       "    <tr>\n",
       "      <th>35</th>\n",
       "      <td>36</td>\n",
       "      <td>2.060</td>\n",
       "      <td>2.945</td>\n",
       "    </tr>\n",
       "    <tr>\n",
       "      <th>36</th>\n",
       "      <td>37</td>\n",
       "      <td>3.425</td>\n",
       "      <td>4.030</td>\n",
       "    </tr>\n",
       "    <tr>\n",
       "      <th>37</th>\n",
       "      <td>38</td>\n",
       "      <td>3.315</td>\n",
       "      <td>3.685</td>\n",
       "    </tr>\n",
       "    <tr>\n",
       "      <th>38</th>\n",
       "      <td>39</td>\n",
       "      <td>3.825</td>\n",
       "      <td>4.175</td>\n",
       "    </tr>\n",
       "    <tr>\n",
       "      <th>39</th>\n",
       "      <td>40</td>\n",
       "      <td>3.160</td>\n",
       "      <td>3.430</td>\n",
       "    </tr>\n",
       "  </tbody>\n",
       "</table>\n",
       "</div>"
      ],
      "text/plain": [
       "    Sample  TwoDays  SevenDays\n",
       "0        1    2.830      3.505\n",
       "1        2    3.295      3.430\n",
       "2        3    2.710      3.670\n",
       "3        4    2.855      3.355\n",
       "4        5    2.980      3.985\n",
       "5        6    3.065      3.630\n",
       "6        7    3.765      4.570\n",
       "7        8    3.265      3.700\n",
       "8        9    3.170      3.660\n",
       "9       10    2.895      3.250\n",
       "10      11    2.630      2.850\n",
       "11      12    2.830      3.340\n",
       "12      13    2.935      3.630\n",
       "13      14    3.115      3.675\n",
       "14      15    2.985      3.475\n",
       "15      16    3.135      3.605\n",
       "16      17    2.750      3.250\n",
       "17      18    3.205      3.540\n",
       "18      19    3.000      4.005\n",
       "19      20    3.035      3.595\n",
       "20      21    1.635      2.275\n",
       "21      22    2.270      3.910\n",
       "22      23    2.895      2.915\n",
       "23      24    2.845      4.530\n",
       "24      25    2.205      2.280\n",
       "25      26    3.590      3.915\n",
       "26      27    3.080      3.140\n",
       "27      28    3.335      3.580\n",
       "28      29    3.800      4.070\n",
       "29      30    2.680      3.805\n",
       "30      31    3.760      4.130\n",
       "31      32    3.605      3.720\n",
       "32      33    2.005      2.690\n",
       "33      34    2.495      3.230\n",
       "34      35    3.205      3.590\n",
       "35      36    2.060      2.945\n",
       "36      37    3.425      4.030\n",
       "37      38    3.315      3.685\n",
       "38      39    3.825      4.175\n",
       "39      40    3.160      3.430"
      ]
     },
     "execution_count": 2,
     "metadata": {},
     "output_type": "execute_result"
    }
   ],
   "source": [
    "import pandas as pd\n",
    "concrete_dst = pd.read_csv(\"Concrete.csv\")\n",
    "concrete_dst"
   ]
  },
  {
   "cell_type": "code",
   "execution_count": 3,
   "metadata": {},
   "outputs": [
    {
     "data": {
      "text/html": [
       "<div>\n",
       "<style scoped>\n",
       "    .dataframe tbody tr th:only-of-type {\n",
       "        vertical-align: middle;\n",
       "    }\n",
       "\n",
       "    .dataframe tbody tr th {\n",
       "        vertical-align: top;\n",
       "    }\n",
       "\n",
       "    .dataframe thead th {\n",
       "        text-align: right;\n",
       "    }\n",
       "</style>\n",
       "<table border=\"1\" class=\"dataframe\">\n",
       "  <thead>\n",
       "    <tr style=\"text-align: right;\">\n",
       "      <th></th>\n",
       "      <th>SevenDays</th>\n",
       "      <th>TwoDays</th>\n",
       "    </tr>\n",
       "  </thead>\n",
       "  <tbody>\n",
       "    <tr>\n",
       "      <th>count</th>\n",
       "      <td>40.000000</td>\n",
       "      <td>40.000000</td>\n",
       "    </tr>\n",
       "    <tr>\n",
       "      <th>mean</th>\n",
       "      <td>3.544125</td>\n",
       "      <td>2.991000</td>\n",
       "    </tr>\n",
       "    <tr>\n",
       "      <th>std</th>\n",
       "      <td>0.503577</td>\n",
       "      <td>0.496086</td>\n",
       "    </tr>\n",
       "    <tr>\n",
       "      <th>min</th>\n",
       "      <td>2.275000</td>\n",
       "      <td>1.635000</td>\n",
       "    </tr>\n",
       "    <tr>\n",
       "      <th>25%</th>\n",
       "      <td>3.317500</td>\n",
       "      <td>2.810000</td>\n",
       "    </tr>\n",
       "    <tr>\n",
       "      <th>50%</th>\n",
       "      <td>3.600000</td>\n",
       "      <td>3.017500</td>\n",
       "    </tr>\n",
       "    <tr>\n",
       "      <th>75%</th>\n",
       "      <td>3.831250</td>\n",
       "      <td>3.272500</td>\n",
       "    </tr>\n",
       "    <tr>\n",
       "      <th>max</th>\n",
       "      <td>4.570000</td>\n",
       "      <td>3.825000</td>\n",
       "    </tr>\n",
       "  </tbody>\n",
       "</table>\n",
       "</div>"
      ],
      "text/plain": [
       "       SevenDays    TwoDays\n",
       "count  40.000000  40.000000\n",
       "mean    3.544125   2.991000\n",
       "std     0.503577   0.496086\n",
       "min     2.275000   1.635000\n",
       "25%     3.317500   2.810000\n",
       "50%     3.600000   3.017500\n",
       "75%     3.831250   3.272500\n",
       "max     4.570000   3.825000"
      ]
     },
     "execution_count": 3,
     "metadata": {},
     "output_type": "execute_result"
    }
   ],
   "source": [
    "concrete_dst[['SevenDays','TwoDays']].describe()"
   ]
  },
  {
   "cell_type": "code",
   "execution_count": 4,
   "metadata": {},
   "outputs": [
    {
     "name": "stdout",
     "output_type": "stream",
     "text": [
      "\n",
      " The t-statistic is 9.372 and the p-value is 0.000.\n"
     ]
    }
   ],
   "source": [
    "import numpy as np, scipy.stats as st\n",
    "two_sample = st.ttest_rel(concrete_dst.SevenDays, concrete_dst.TwoDays)\n",
    "print(\"\\n The t-statistic is %.3f and the p-value is %.3f.\" % two_sample)"
   ]
  },
  {
   "cell_type": "code",
   "execution_count": 7,
   "metadata": {},
   "outputs": [
    {
     "name": "stdout",
     "output_type": "stream",
     "text": [
      "3.544\n",
      "2.991\n"
     ]
    }
   ],
   "source": [
    "print(round(concrete_dst['SevenDays'].mean(),3))\n",
    "print(round(concrete_dst['TwoDays'].mean(),4))"
   ]
  },
  {
   "cell_type": "code",
   "execution_count": 9,
   "metadata": {},
   "outputs": [
    {
     "ename": "NameError",
     "evalue": "name 'plt' is not defined",
     "output_type": "error",
     "traceback": [
      "\u001b[0;31m---------------------------------------------------------------------------\u001b[0m",
      "\u001b[0;31mNameError\u001b[0m                                 Traceback (most recent call last)",
      "\u001b[0;32m<ipython-input-9-752402026b68>\u001b[0m in \u001b[0;36m<module>\u001b[0;34m\u001b[0m\n\u001b[1;32m      1\u001b[0m \u001b[0mconcrete_dst\u001b[0m\u001b[0;34m[\u001b[0m\u001b[0;34m'diff'\u001b[0m\u001b[0;34m]\u001b[0m \u001b[0;34m=\u001b[0m \u001b[0mconcrete_dst\u001b[0m\u001b[0;34m[\u001b[0m\u001b[0;34m'SevenDays'\u001b[0m\u001b[0;34m]\u001b[0m \u001b[0;34m-\u001b[0m \u001b[0mconcrete_dst\u001b[0m\u001b[0;34m[\u001b[0m\u001b[0;34m'TwoDays'\u001b[0m\u001b[0;34m]\u001b[0m\u001b[0;34m\u001b[0m\u001b[0;34m\u001b[0m\u001b[0m\n\u001b[1;32m      2\u001b[0m \u001b[0mconcrete_dst\u001b[0m\u001b[0;34m[\u001b[0m\u001b[0;34m'diff'\u001b[0m\u001b[0;34m]\u001b[0m\u001b[0;34m.\u001b[0m\u001b[0mplot\u001b[0m\u001b[0;34m(\u001b[0m\u001b[0mkind\u001b[0m\u001b[0;34m=\u001b[0m\u001b[0;34m'hist'\u001b[0m\u001b[0;34m,\u001b[0m \u001b[0mtitle\u001b[0m\u001b[0;34m=\u001b[0m \u001b[0;34m'Difference Histogram'\u001b[0m\u001b[0;34m)\u001b[0m\u001b[0;34m\u001b[0m\u001b[0;34m\u001b[0m\u001b[0m\n\u001b[0;32m----> 3\u001b[0;31m \u001b[0mplt\u001b[0m\u001b[0;34m.\u001b[0m\u001b[0mshow\u001b[0m\u001b[0;34m(\u001b[0m\u001b[0;34m)\u001b[0m\u001b[0;34m\u001b[0m\u001b[0;34m\u001b[0m\u001b[0m\n\u001b[0m",
      "\u001b[0;31mNameError\u001b[0m: name 'plt' is not defined"
     ]
    },
    {
     "data": {
      "image/png": "[encoded data removed]",
      "text/plain": [
       "<Figure size 432x288 with 1 Axes>"
      ]
     },
     "metadata": {
      "needs_background": "light"
     },
     "output_type": "display_data"
    }
   ],
   "source": [
    "concrete_dst['diff'] = concrete_dst['SevenDays'] - concrete_dst['TwoDays']\n",
    "concrete_dst['diff'].plot(kind='hist', title= 'Difference Histogram')\n",
    "plt.show()"
   ]
  },
  {
   "cell_type": "code",
   "execution_count": 10,
   "metadata": {},
   "outputs": [
    {
     "name": "stdout",
     "output_type": "stream",
     "text": [
      "The t-statistic is 9.372 and the p-value is 0.000.\n"
     ]
    }
   ],
   "source": [
    "one_sample = st.ttest_1samp(concrete_dst['diff'], 0)\n",
    "print(\"The t-statistic is %.3f and the p-value is %.3f.\" % one_sample)"
   ]
  },
  {
   "cell_type": "code",
   "execution_count": null,
   "metadata": {},
   "outputs": [],
   "source": []
  }
 ],
 "metadata": {
  "kernelspec": {
   "display_name": "Python 3",
   "language": "python",
   "name": "python3"
  },
  "language_info": {
   "codemirror_mode": {
    "name": "ipython",
    "version": 3
   },
   "file_extension": ".py",
   "mimetype": "text/x-python",
   "name": "python",
   "nbconvert_exporter": "python",
   "pygments_lexer": "ipython3",
   "version": "3.6.7"
  }
 },
 "nbformat": 4,
 "nbformat_minor": 2
}
