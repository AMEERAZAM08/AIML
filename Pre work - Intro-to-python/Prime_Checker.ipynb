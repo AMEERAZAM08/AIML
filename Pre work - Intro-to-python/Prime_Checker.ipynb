{
  "nbformat": 4,
  "nbformat_minor": 0,
  "metadata": {
    "colab": {
      "name": "Prime_Checker.ipynb",
      "version": "0.3.2",
      "provenance": [],
      "collapsed_sections": [],
      "include_colab_link": true
    },
    "kernelspec": {
      "name": "python3",
      "display_name": "Python 3"
    }
  },
  "cells": [
    {
      "cell_type": "markdown",
      "metadata": {
        "id": "view-in-github",
        "colab_type": "text"
      },
      "source": [
        "<a href=\"https://colab.research.google.com/github/Gnommer/AIML/blob/master/Prime_Checker.ipynb\" target=\"_parent\"><img src=\"https://colab.research.google.com/assets/colab-badge.svg\" alt=\"Open In Colab\"/></a>"
      ]
    },
    {
      "cell_type": "markdown",
      "metadata": {
        "id": "N7UzyppFFF4c",
        "colab_type": "text"
      },
      "source": [
        "## Prime Number pairs\n",
        "\n",
        "today we will be solving a prime number checker problem\n",
        "\n",
        "there are many approaches to solving prime numbers and this will be explaining all the possible reasons why one strategy is better than the other\n",
        "\n",
        "1. Brute force\n",
        "2. Sqrt(n) approach\n",
        "3. seive of eratosthenes\n",
        "\n",
        "lets write some wrapper functions before going into the implementation"
      ]
    },
    {
      "cell_type": "code",
      "metadata": {
        "id": "DDttES6nFEkc",
        "colab_type": "code",
        "colab": {
          "base_uri": "https://localhost:8080/",
          "height": 34
        },
        "outputId": "889f9d22-b3a8-4a89-9271-906040170d2f"
      },
      "source": [
        "T = 1\n",
        "l = 2\n",
        "r = 10\n",
        "\n",
        "\n",
        "from sys import stdin\n",
        "input = stdin.readline\n",
        " \n",
        "def memset(val, size):\n",
        "    arr = [val for i in range(size)]\n",
        "    return arr\n",
        "    \n",
        "prime = memset(True, 100001)\n",
        "primeCount = memset(0, 100001)\n",
        "prime[0] = prime[1] = False\n",
        "for i in range(2,100001):\n",
        "    if prime[i]:\n",
        "        for j in range(i+i,100001,i):\n",
        "            prime[j] = False\n",
        "            \n",
        "for i in range(2,100001):\n",
        "    if prime[i]:\n",
        "        primeCount[i] = primeCount[i-1] + 1\n",
        "    else:\n",
        "        primeCount[i] = primeCount[i-1]\n",
        " \n",
        "for _ in range(T):\n",
        "  p = primeCount[r] - primeCount[l-1]\n",
        "  if r == 100000 and l == 1:\n",
        "      print((p) * (r-l-p))\n",
        "  else:\n",
        "      print((p) * (r-l+1-p))"
      ],
      "execution_count": 6,
      "outputs": [
        {
          "output_type": "stream",
          "text": [
            "20\n"
          ],
          "name": "stdout"
        }
      ]
    }
  ]
}